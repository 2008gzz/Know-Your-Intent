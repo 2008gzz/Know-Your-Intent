{
 "cells": [
  {
   "cell_type": "code",
   "execution_count": 14,
   "metadata": {},
   "outputs": [],
   "source": [
    "import json\n",
    "import csv\n",
    "import os\n",
    "    \n",
    "ubuntu_data_path = os.path.join(\"datasets\",\"NLU-Evaluation-Corpora\",\"AskUbuntuCorpus.json\")\n",
    "\n",
    "with open(ubuntu_data_path) as f:\n",
    "    ubuntu_data = json.load(f)\n",
    "    \n",
    "sentences = ubuntu_data[\"sentences\"]\n",
    "\n",
    "corpus = []\n",
    "y = []\n",
    "intent_dict = {\"Make Update\":0, \"Setup Printer\":1, \"Shutdown Computer\":2, \"Software Recommendation\":3, \"None\":4}\n",
    "with open('ask_ubuntu_data.csv', 'w', newline='') as csvfile:\n",
    "    for sentence in sentences:\n",
    "        corpus.append(sentence[\"text\"])\n",
    "        y.append(intent_dict[sentence[\"intent\"]])\n",
    "\n",
    "\n",
    "        \n",
    "        writer = csv.writer(csvfile, delimiter=',')\n",
    "\n",
    "        \n",
    "        writer.writerow([sentence[\"text\"],sentence[\"intent\"]])\n",
    "    \n",
    "\n",
    "    \n"
   ]
  },
  {
   "cell_type": "code",
   "execution_count": null,
   "metadata": {},
   "outputs": [],
   "source": []
  }
 ],
 "metadata": {
  "kernelspec": {
   "display_name": "Python [conda env:lulea]",
   "language": "python",
   "name": "conda-env-lulea-py"
  },
  "language_info": {
   "codemirror_mode": {
    "name": "ipython",
    "version": 3
   },
   "file_extension": ".py",
   "mimetype": "text/x-python",
   "name": "python",
   "nbconvert_exporter": "python",
   "pygments_lexer": "ipython3",
   "version": "3.5.5"
  }
 },
 "nbformat": 4,
 "nbformat_minor": 2
}
